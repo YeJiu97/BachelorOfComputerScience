{
 "cells": [
  {
   "cell_type": "markdown",
   "metadata": {},
   "source": [
    "# MATHS1004 Mathematics for Data Science I\n",
    "## Computer Lab 1\n",
    "\n",
    "Hi! Welcome to Python 3. If you've made it this far, you've already figured out how to open a Jupyter Notebook, which is great news. This first lab is going to teach you how to find your way around Python and introduce some basic concepts of this programming language.\n",
    "\n",
    "Notebooks are a great way to program in Python -- they let us write and execute code in blocks, as well as write text like you might in a regular paper notebook. You should think of them like a \"lab book\" -- you can play around with code, and write notes about what you're doing as you go along.\n",
    "\n",
    "Let's get straight into it! Below this block of text is a grey box, with a piece of Python code (you can tell it's code because of the different font) written in it. I want you to click once inside that box, and then press `Ctrl + Enter` on your keyboard (or `Shift + Enter` if you happen to be using a Mac). Go on, try it out, and then we'll explain what has happened here. "
   ]
  },
  {
   "cell_type": "code",
   "execution_count": null,
   "metadata": {
    "collapsed": true
   },
   "outputs": [],
   "source": [
    "print(\"Hello world!\")"
   ]
  },
  {
   "cell_type": "markdown",
   "metadata": {},
   "source": [
    "Congratulations! You've just executed your first Python program! And importantly, by the Laws of Introductory Programming Courses, it was the obligatory \"Hello world\" program. \n",
    "\n",
    "The little mark saying `In [1]:` to the left of the block means that this is the first code block you've input. As you execute more blocks of code that number will go up.\n",
    "\n",
    "Actually, straight away here we can get into problems. Here's an example.\n",
    "\n",
    "Execute the following piece of code:"
   ]
  },
  {
   "cell_type": "code",
   "execution_count": null,
   "metadata": {
    "collapsed": true
   },
   "outputs": [],
   "source": [
    "a = 19"
   ]
  },
  {
   "cell_type": "markdown",
   "metadata": {},
   "source": [
    "This defines the *variable* `a`, and assigns it the value 19. Let's check that, by printing out `a` again:"
   ]
  },
  {
   "cell_type": "code",
   "execution_count": null,
   "metadata": {
    "collapsed": true
   },
   "outputs": [],
   "source": [
    "a"
   ]
  },
  {
   "cell_type": "markdown",
   "metadata": {},
   "source": [
    "Cool! That number got saved in memory, so that we can access it again later. Now let's change `a`:"
   ]
  },
  {
   "cell_type": "code",
   "execution_count": null,
   "metadata": {
    "collapsed": true
   },
   "outputs": [],
   "source": [
    "a = a + 1\n",
    "a"
   ]
  },
  {
   "cell_type": "markdown",
   "metadata": {},
   "source": [
    "The first line adds 1 to `a`, giving the number 20, and then assigns that to `a`, so that when we print `a` on the next line we get the output 20. \n",
    "\n",
    "(Side note: if you haven't seen this before you might be weirded out by the strange-looking equation $a = a + 1$, which doesn't have a solution. When programming the equals sign is an assignment operator, and it assigns the thing on the right of the equals into the thing on the left. Ask a tutor about this right now if you're confused!)\n",
    "\n",
    "Anyway, now, go back to the first time we printed out `a` and execute that block again. (It should be the `In [3]:` block the first time you run through this.) The output has changed from 19 to 20! And if you're reading through from the top without looking at the line numbers, it seems like something has gone wrong -- the variable `a` changed from 19 to 20 seemingly by itself.\n",
    "\n",
    "This is something to watch out for with Jupyter notebooks -- if you go back and re-execute cells you can change things, and mess up the flow of your work. You should always try and work by executing cells down the page, or at the very least keep track of those `In []:` and `Out []:` lines.\n",
    "\n",
    "\n",
    "OK, enough cautionary tales. Let's move on to the idea of this prac."
   ]
  },
  {
   "cell_type": "markdown",
   "metadata": {},
   "source": [
    "## Exploring the Titanic dataset"
   ]
  },
  {
   "cell_type": "markdown",
   "metadata": {},
   "source": [
    "The aim of this lab is to make some of the plots I showed you of the Titanic dataset from lectures, which came from [Kaggle](https://www.kaggle.com/c/titanic). You should sign up -- there are thousands of great datasets, tutorials, and competitions, to play with, all around data science and machine learning.\n",
    "\n",
    "For now, the Titanic dataset is included with this notebook on Canvas. Go and download the file and unzip it. We'll be playing with the `train.csv` (comma-separated values) file. Open that file up in a text editor (**not Excel**) and look at it. I'll wait.\n",
    "\n",
    "Notice that the top line contains the column names, and each row underneath contains info on one person. And each column is separated by a comma. Our task is to read that data into Python so that we can play with it. That means that first we need to put it somewhere that Python can find it.\n",
    "\n",
    "Where is this notebook located within your computer's directory structure? Insert a cell below this one and execute the command `pwd` to find out.\n",
    "\n",
    "Don't know how to insert a cell? Go to `Help > Keyboard shortcuts` and search for \"insert cell below\". These keyboard shortcuts are your best friend actually -- take a moment to familiarise yourself.\n",
    "\n",
    "\n"
   ]
  },
  {
   "cell_type": "markdown",
   "metadata": {},
   "source": [
    "That string tells you the current working directory. Reading from the left, each slash (`/` or `\\` depending on your system) means to go deeper into the named directories (folders). `pwd` is UNIX language, and Python uses it. If you don't know what the following UNIX commands do, Google them and find out before you go any further:\n",
    "\n",
    "- `pwd`\n",
    "- `cd`\n",
    "- `ls`\n",
    "- `ls *.ipynb` (or `*.whatever`)\n",
    "- `mkdir`\n",
    "- `cd ..`\n",
    "- `cd ~`\n",
    "\n",
    "Try some of them out here. `rm` removes things -- perhaps just look that one up, don't try it out for now.\n",
    "\n",
    "Now that you have some idea of UNIX-style directory structure, put the `titanic` directory somewhere that you can `ls` its contents from here.\n",
    "\n",
    "To import `train.csv` and take a look at it, we'll use `pandas`:"
   ]
  },
  {
   "cell_type": "code",
   "execution_count": null,
   "metadata": {},
   "outputs": [],
   "source": [
    "import pandas as pd\n",
    "\n",
    "df1 = pd.read_csv('INSERT_PATH_TO_train.csv_HERE')\n",
    "df1.tail()"
   ]
  },
  {
   "cell_type": "markdown",
   "metadata": {},
   "source": [
    "OK this imports a package called `pandas`, calls it `pd` (so we don't have to keep writing \"pandas.\" all the time), then uses the `read_csv` function to read `train.csv` into a *dataframe* called `df1`. And then we look at the bottom (the `tail`) of that dataframe. You should see some information about some passengers, like was in the lecture slides. If you got an error, talk to your neighbour or a tutor!\n",
    "\n",
    "You can see some issues with the data already -- there are numbers mixed with strings (words) in some columns, integers and floats (non-integers), and worst of all: some `NaN`'s (Not a Number, in the Cabin column), where we don't have data. Those `NaN`'s ruin our ability to do maths, and so we should remove them. For now I don't want to get bogged down in the details, so just run the following block:"
   ]
  },
  {
   "cell_type": "code",
   "execution_count": null,
   "metadata": {
    "scrolled": true
   },
   "outputs": [],
   "source": [
    "import numpy as np\n",
    "\n",
    "df2 = df1[['Age','Fare','Survived']].dropna()\n",
    "df2['FareLog10'] = np.log10(df2['Fare']+1)\n",
    "df2.tail()\n"
   ]
  },
  {
   "cell_type": "markdown",
   "metadata": {},
   "source": [
    "This dataframe is an *object* in Python, and we can chain some functions to it by using a `.`. For example, the `.tail()` above applied the `tail()` function to `df2` (or `df1`). The `describe()` function is particularly useful: try applying it to the dataframe to get some useful statistics."
   ]
  },
  {
   "cell_type": "code",
   "execution_count": null,
   "metadata": {},
   "outputs": [],
   "source": [
    "df2.describe()"
   ]
  },
  {
   "cell_type": "markdown",
   "metadata": {},
   "source": [
    "What is the proportion of passengers who survived? You should be able to figure this out from the output above.\n",
    "\n",
    "We can do some more exploration of this dataset, guided by some questions. Here's a good one: \n",
    "\n",
    "*Were females or males more likely to survive the Titanic?*\n",
    "\n",
    "To do this we'll need to subset the data by the values in the `Sex` column. The first thing to do is to get the rows containing just males or just females. Try this:"
   ]
  },
  {
   "cell_type": "code",
   "execution_count": null,
   "metadata": {
    "collapsed": true
   },
   "outputs": [],
   "source": [
    "df2['Sex'] == 'female'"
   ]
  },
  {
   "cell_type": "markdown",
   "metadata": {},
   "source": [
    "The double equals sign does a logical comparison -- reading from left to right it says: \"grab the `Sex` column of df1 (`df1['Sex']`), and return `True` for whichever value is equal to `female`\". This gives us the rows of `df1` for which the gender of the passenger in that row is `female`.\n",
    "\n",
    "Now, to get the survival status of those passengers, you would look at the column `Survived` for those rows:"
   ]
  },
  {
   "cell_type": "code",
   "execution_count": null,
   "metadata": {
    "collapsed": true
   },
   "outputs": [],
   "source": [
    "df2['Survived'][df2['Sex'] == 'female']"
   ]
  },
  {
   "cell_type": "markdown",
   "metadata": {},
   "source": [
    "See how the first column gives the same numbers as the `True` values from the block above? This is because we've only selected the rows for which `df1['Sex'] == 'female'` is `True`, i.e., the females. Now, given these survival statuses for females, how can you figure out the proportion of females who survived? Fill in the gaps below to calculate this, and do the same for males, to answer our original question.\n",
    "\n",
    "(Hint: you can append the `.mean()` function after series of numbers in `pandas`!)"
   ]
  },
  {
   "cell_type": "code",
   "execution_count": null,
   "metadata": {},
   "outputs": [],
   "source": [
    "# put some code here to calculate the proportion of females who survived (p_F) \n",
    "# and the number of males who survived (p_M).\n",
    "\n",
    "p_F = \n",
    "p_M = \n",
    "\n",
    "print('The proportion of females who survived is :',p_F)\n",
    "print('The proportion of males who survived is   :',p_M)"
   ]
  },
  {
   "cell_type": "markdown",
   "metadata": {},
   "source": [
    "See also a couple of things above:\n",
    "- Putting a hash # at the start of some text makes it a comment, which gets ignored when executing the block. Commenting your code is very important and you should do it a lot!\n",
    "- Notice how the `print` statement can put strings and numbers together. This is handy."
   ]
  },
  {
   "cell_type": "markdown",
   "metadata": {},
   "source": [
    "Finally, let's do some basic visualisation of our data by making some plots. `matplotlib.pyplot` is the standard toolbox in Python 3, and everything you need to get started is [here](https://matplotlib.org/tutorials/introductory/pyplot.html). Take a quick look.\n",
    "\n",
    "In the cell below, import `matplotlib.pyplot`, and then make a plot of Survival Status against Age (like what was shown in lectures). I'll get you started, with a piece of code to convert these two columns into Python lists of numbers (because I want to avoid too much `pandas` for now).\n",
    "\n",
    "Make sure you add axis labels "
   ]
  },
  {
   "cell_type": "code",
   "execution_count": null,
   "metadata": {},
   "outputs": [],
   "source": [
    "age = list(df2['Age'])\n",
    "survived = list(df2['Survived'])\n",
    "\n",
    "\n",
    "\n"
   ]
  },
  {
   "cell_type": "markdown",
   "metadata": {},
   "source": [
    "(Side note: you don't technically need the intermediary step of calculating `age` and `survived` variables, can plot `df1['Age']` and `df1['Survived']` directly. Try it!)\n",
    "\n",
    "Hmm, that's not very useful to look at, because most of the points are directly on top of each other. (Hopefully you figured out to plot dots rather than the default lines!) You can try adding some transparency to your dots by adding an `alpha` value (try adding `alpha = 0.2` or so into your plot statement above), but really this is just not the right sort of visualisation -- we should look at **histograms** instead.\n",
    "\n",
    "Go back to the Pyplot tutorial link and scroll down to the histogram section. Your final challenge is to make two histograms: one for the ages of the passengers who survived (`Survived` == 1), and another for the passengers who didn't (`Survived` == 0). To do this you'll need to:\n",
    "\n",
    "1. Get the indices of the rows for which `Survived` == 1;\n",
    "2. Select the ages of passengers in these rows;\n",
    "3. Save these values as a variable to plot (say, `ages_1`);\n",
    "4. Repeat steps 1-3 for `Survived` == 0 to get `ages_0`;\n",
    "5. Create two histograms (use `plt.hist`) of `ages_1` and `ages_0`.\n",
    "\n",
    "Try plotting the two histograms on the same plot (using two `plt.hist` commands under each other). If you're feeling really fancy you can add a legend (hints [here](https://jakevdp.github.io/PythonDataScienceHandbook/04.06-customizing-legends.html)). \n",
    "\n",
    "The final output should look something like this:\n",
    "\n",
    "<img src=\"Lab01hist.png\">\n",
    "\n",
    "(I added an alpha value again to get the nice transparency. And one final hint: those pesky `NaN`'s I mentioned above really mess us up here. Make sure to use `df2` rather than `df1` for this plot.)\n",
    "\n",
    "Well done! That was a crash course in some of the most common data science/exploratory data analysis tasks when given a (nicely-formatted) dataset. In coming weeks we'll focus more on the mathematical uses of Python, but we'll return to `pandas` eventually and explore some more of its features.\n",
    "\n",
    "Extensions:\n",
    "\n",
    "- Do you think there's a difference in age between those two survived and those who didn't? Try calculating the mean and median of both distributions to get more of a feel for them.\n",
    "- Can you plot vertical lines showing the mean (or median) values of each histogram?\n",
    "- Make histograms of some of the other variables like fare, or $\\log_{10}(fare + 1)$.\n",
    "- How might you visualise the difference in survival rates between male and female passengers? Take a look at `plt.bar` and see if you can make a bar plot.\n"
   ]
  },
  {
   "cell_type": "code",
   "execution_count": null,
   "metadata": {},
   "outputs": [],
   "source": []
  },
  {
   "cell_type": "code",
   "execution_count": null,
   "metadata": {
    "collapsed": true
   },
   "outputs": [],
   "source": []
  },
  {
   "cell_type": "code",
   "execution_count": null,
   "metadata": {
    "collapsed": true
   },
   "outputs": [],
   "source": []
  },
  {
   "cell_type": "code",
   "execution_count": null,
   "metadata": {
    "collapsed": true
   },
   "outputs": [],
   "source": []
  },
  {
   "cell_type": "code",
   "execution_count": null,
   "metadata": {
    "collapsed": true
   },
   "outputs": [],
   "source": []
  }
 ],
 "metadata": {
  "kernelspec": {
   "display_name": "Python 3",
   "language": "python",
   "name": "python3"
  },
  "language_info": {
   "codemirror_mode": {
    "name": "ipython",
    "version": 3
   },
   "file_extension": ".py",
   "mimetype": "text/x-python",
   "name": "python",
   "nbconvert_exporter": "python",
   "pygments_lexer": "ipython3",
   "version": "3.6.7"
  },
  "toc": {
   "base_numbering": 1,
   "nav_menu": {},
   "number_sections": true,
   "sideBar": true,
   "skip_h1_title": false,
   "title_cell": "Table of Contents",
   "title_sidebar": "Contents",
   "toc_cell": false,
   "toc_position": {},
   "toc_section_display": true,
   "toc_window_display": false
  }
 },
 "nbformat": 4,
 "nbformat_minor": 2
}

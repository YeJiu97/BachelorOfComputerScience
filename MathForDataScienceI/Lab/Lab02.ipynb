{
 "cells": [
  {
   "cell_type": "markdown",
   "metadata": {},
   "source": [
    "# MATHS1004 Mathematics for Data Science I\n",
    "## Computer Lab 2\n",
    "\n",
    "The aim of this lab is to explore Taylor series, which we'll be talking about in lectures this week. Along the way we'll stealthily introduce how some essential programming principles are implemented in Python:\n",
    "- `for` loops\n",
    "- functions\n",
    "Let's get to it!\n",
    "\n",
    "The Taylor series centred at $a = 0$ (the *Maclaurin series*) for the function $f(x) = e^x$ is\n",
    "$$\n",
    "e^x = \\sum_{n=0}^\\infty \\frac{x^n}{n!} = 1 + x + \\frac{x^2}{2} + \\frac{x^3}{3!} + \\frac{x^4}{4!} + \\cdots\n",
    "$$\n",
    "\n",
    "Let's use Python to approximate $e^x$ for $x = 2$, using terms up to $n = 3$ in the series. I'll import the `numpy` library first so that we can use the `factorial` function."
   ]
  },
  {
   "cell_type": "code",
   "execution_count": null,
   "metadata": {},
   "outputs": [],
   "source": [
    "import numpy as np\n",
    "\n",
    "x = 2\n",
    "e_to_2 = x**0/np.math.factorial(0) + x**1/np.math.factorial(1) + x**2/np.math.factorial(2) + x**3/np.math.factorial(3)\n",
    "print(e_to_2)"
   ]
  },
  {
   "cell_type": "markdown",
   "metadata": {
    "collapsed": true
   },
   "source": [
    "What is $e^2$ exactly? Let's use `numpy` magic to find out:"
   ]
  },
  {
   "cell_type": "code",
   "execution_count": null,
   "metadata": {},
   "outputs": [],
   "source": [
    "np.exp(2)"
   ]
  },
  {
   "cell_type": "markdown",
   "metadata": {
    "collapsed": true
   },
   "source": [
    "So our approximation is ok, but not great. In the cell below, add the next term in the series ($n=4$) to the sum `e_to_2`, and see how much better the approximation gets.\n",
    "\n",
    "(Try to be a bit hip here -- you already have `e_to_2` up to $n=3$ saved in memory, so don't copypasta the whole expression again, just add the next term to `e_to_2`.) "
   ]
  },
  {
   "cell_type": "code",
   "execution_count": null,
   "metadata": {},
   "outputs": [],
   "source": []
  },
  {
   "cell_type": "markdown",
   "metadata": {},
   "source": [
    "If you did that the way I suggested (if not, ask the tutor) you might be starting to notice that there's a pattern here. I can calculate this sum *recursively*, by just adding on the next term to the existing sum each time. This suggests an amazing efficiency gain for us, by using a **loop**!\n",
    "\n",
    "\n",
    "### Interlude: `for` loops\n",
    "Here's an example of a loop: a `for` loop to calculate the sum of the first $n = 10$ numbers:"
   ]
  },
  {
   "cell_type": "code",
   "execution_count": null,
   "metadata": {},
   "outputs": [],
   "source": [
    "n = 10\n",
    "sum_n = 0\n",
    "\n",
    "for i in range(n):\n",
    "    sum_n = sum_n + (i+1)\n",
    "    \n",
    "print(\"Sum of the first 10 numbers:\",sum_n)"
   ]
  },
  {
   "cell_type": "markdown",
   "metadata": {
    "collapsed": true
   },
   "source": [
    "(Check that this is correct using the relevant formula from lectures.)\n",
    "\n",
    "Line by line here, I defined the number of terms to sum ($n=10$), initialised my sum at 0 (`sum_n`), and then looped over the values in `range(n)`, adding each new value (plus 1) to `sum_n` each time. The operation that gets repeated inside the loop has to be *indented* by a tab in Python! This language demands that you write nice-looking code. The last line, being unindented, sits outside the loop, so prints the result one time only.\n",
    "\n",
    "What are those values in `range(n)`? Type `list(range(n))` in the cell below to find out."
   ]
  },
  {
   "cell_type": "code",
   "execution_count": null,
   "metadata": {},
   "outputs": [],
   "source": []
  },
  {
   "cell_type": "markdown",
   "metadata": {
    "collapsed": true
   },
   "source": [
    "So there's a bit of a tricky point here: Python by default counts everything from 0, so `range(n)` actually goes from 0 to $n-1$. That's why we had to add $(i+1)$ rather than $i$ at each step through the sum.\n",
    "\n",
    "Exercises:\n",
    "- Put a `print(i)` inside the loop above to see how the loop is incremented, and a `print(sum_n)` so you can see how the sum gets recursively calculated.\n",
    "- `range(a,b)` creates a list of integers starting at `a` and ending at `b-1`. Rewrite the sum above in the cell below to calculate exactly $\\sum_{i=1}^{10} i$, that is, starting at 1 and ending at 10.\n",
    "- Use a loop to calculate the sum of the integers from 17 to 98 (inclusive). Check your result by hand using the relevant approach from lectures."
   ]
  },
  {
   "cell_type": "code",
   "execution_count": null,
   "metadata": {},
   "outputs": [],
   "source": []
  },
  {
   "cell_type": "code",
   "execution_count": null,
   "metadata": {},
   "outputs": [],
   "source": []
  },
  {
   "cell_type": "markdown",
   "metadata": {},
   "source": [
    "### Back to Taylor series\n",
    "\n",
    "We can now use this magic to make our series approximation of $e^2$ much more efficient! Let's say I wanted to calculate $n=4$ terms in the series expansion of $e^2 = \\sum_{i=0}^n \\frac{2^i}{i!}$. I'll start off the `for`-loop approach below, you finish it:"
   ]
  },
  {
   "cell_type": "code",
   "execution_count": null,
   "metadata": {},
   "outputs": [],
   "source": [
    "n = 25\n",
    "x = 8\n",
    "\n",
    "e_to_x = 0\n",
    "for i in range(n+1):\n",
    "    e_to_x = e_to_x + # add your code in here\n",
    "    \n",
    "print(\"Approximation to exp(x) with x =\",x,\"using terms up to n =\",n,\":\",e_to_x)"
   ]
  },
  {
   "cell_type": "markdown",
   "metadata": {},
   "source": [
    "(If you didn't get the same answer as earlier, make sure you ask for help before moving on.)\n",
    "\n",
    "This is great, because now we can calculate many more terms in the series expansion quickly. \n",
    "- Change to computing $n=10$ terms in the series expansion above, and compare with the result from `np.exp(x)` result.\n",
    "- Evaluate $\\exp(8)$ instead using this series expansion with $n=10$ terms. Compare with `np.exp(x)`. What do you notice? (We'll talk about this in lectures.)\n",
    "- Explore changing the number of terms $n$. How many terms do you need to get as close to the `np.exp(x)` result as for $x=2$?\n",
    "\n",
    "\n",
    "In all of this we've written a nice little function for approximating $\\exp(x)$. We should have another interlude to learn how to properly write it as a Python function!\n",
    "\n",
    "### Interlude: functions\n",
    "\n",
    "As in other programming languages you can create user-defined functions in Python, using `def`. The syntax is pretty straightforward -- you need to call `def` to define your function, indent the guts of that function (just like for a `for` loop), and make sure to `return` something at the end of your function. Here are two examples:"
   ]
  },
  {
   "cell_type": "code",
   "execution_count": null,
   "metadata": {},
   "outputs": [],
   "source": [
    "def square_then_add_19(x):\n",
    "    # this function squares the number x then adds 19\n",
    "    y = x**2 + 19\n",
    "    return y\n",
    "\n",
    "def special_adding_function(a,b):\n",
    "    # what does this function do? Make sure you understand.\n",
    "    my_sum = 0\n",
    "    for i in range(a,b+1):\n",
    "        my_sum = my_sum + i\n",
    "    return my_sum\n",
    "        \n",
    "print(square_then_add_19(3.2))\n",
    "print(special_adding_function(0,10))"
   ]
  },
  {
   "cell_type": "markdown",
   "metadata": {},
   "source": [
    "And you can add as many inputs as you want to both of these functions. (And `return` more outputs too, if you like, using a comma.)\n",
    "\n",
    "Great! Your turn: write a function `e_to_x_n` which takes in a value `x` and number of terms `n` and computes the series approximation up to term $n$ of $\\exp(x)$."
   ]
  },
  {
   "cell_type": "code",
   "execution_count": null,
   "metadata": {
    "collapsed": true
   },
   "outputs": [],
   "source": [
    "def e_to_x_n(x,n):\n",
    "    # insert your function here (indented!)\n",
    "    \n"
   ]
  },
  {
   "cell_type": "markdown",
   "metadata": {},
   "source": [
    "Once you've done that, test your function with `x=2` and `n=10` below to make sure it works."
   ]
  },
  {
   "cell_type": "code",
   "execution_count": null,
   "metadata": {},
   "outputs": [],
   "source": []
  },
  {
   "cell_type": "markdown",
   "metadata": {},
   "source": [
    "Final thing! To blow your mind. We've been using `numpy` throughout, which can take in array inputs just as happily as scalar inputs. For example, to calculate $e^x$ for a range of $x$ values in order to make a plot, I could do something like the following. `np.linspace` creates a list of 100 equally-spaced values between the endpoints I give it, and `np.exp(x)` evaluates at *all* those x-values:"
   ]
  },
  {
   "cell_type": "code",
   "execution_count": null,
   "metadata": {},
   "outputs": [],
   "source": [
    "import matplotlib.pyplot as plt\n",
    "\n",
    "x = np.linspace(-2,4)\n",
    "y = np.exp(x)\n",
    "plt.plot(x,y)\n",
    "plt.xlabel('x')\n",
    "plt.ylabel('f(x)')\n",
    "plt.show()"
   ]
  },
  {
   "cell_type": "markdown",
   "metadata": {},
   "source": [
    "Your user-defined function should be able to do this too! Use it to create plots of the series approximation to $e^x$ over $[-2,4]$ for $n = 1,2,5,10$. Put all the plots on the same set of axes. You should get something like this:\n",
    "\n",
    "<img src=\"TS.png\">\n",
    "\n",
    "Try to use a loop over the $n$ values to make the plot rather than lots of repeated lines of code. My trick for doing the legends was to use `label=\"n = \"+str(n)` in my plot command; other tricks are possible."
   ]
  },
  {
   "cell_type": "code",
   "execution_count": null,
   "metadata": {},
   "outputs": [],
   "source": []
  },
  {
   "cell_type": "markdown",
   "metadata": {},
   "source": [
    "Further extension problems:\n",
    "\n",
    "- We'll learn some other Maclaurin series in lectures, or there are plenty on [Wikipedia](https://en.wikipedia.org/wiki/Taylor_series#List_of_Maclaurin_series_of_some_common_functions). Try and write similar functions for these! (The trig functions are a good starting place)\n",
    "- Fun with recursion and summation: you remember the Golden ratio from *The Da Vinci Code* right? It's the limit of the ratio of consequtive (https://en.wikipedia.org/wiki/Fibonacci_number)[Fibonacci numbers]. Write a function to calculate the $n$th Fibonacci number using a loop, and use it to write a function to approximate the Golden ratio.\n",
    "- There are other types of loops -- a `while` loop is the most common. How could you rewrite your `e_to_x_n` function to instead of calculating a set number of terms `n`, compute until the difference between consequtive partials sums is less than some error tolerance `tol`? Be warned: this can lead to loops which take a long time to terminate! In which case you might want to explore `break`, or `if`, statements..."
   ]
  },
  {
   "cell_type": "code",
   "execution_count": null,
   "metadata": {
    "collapsed": true
   },
   "outputs": [],
   "source": []
  },
  {
   "cell_type": "code",
   "execution_count": null,
   "metadata": {
    "collapsed": true
   },
   "outputs": [],
   "source": []
  },
  {
   "cell_type": "code",
   "execution_count": null,
   "metadata": {
    "collapsed": true
   },
   "outputs": [],
   "source": []
  }
 ],
 "metadata": {
  "kernelspec": {
   "display_name": "Python 3",
   "language": "python",
   "name": "python3"
  },
  "language_info": {
   "codemirror_mode": {
    "name": "ipython",
    "version": 3
   },
   "file_extension": ".py",
   "mimetype": "text/x-python",
   "name": "python",
   "nbconvert_exporter": "python",
   "pygments_lexer": "ipython3",
   "version": "3.6.7"
  },
  "toc": {
   "base_numbering": 1,
   "nav_menu": {},
   "number_sections": true,
   "sideBar": true,
   "skip_h1_title": false,
   "title_cell": "Table of Contents",
   "title_sidebar": "Contents",
   "toc_cell": false,
   "toc_position": {},
   "toc_section_display": true,
   "toc_window_display": false
  }
 },
 "nbformat": 4,
 "nbformat_minor": 2
}

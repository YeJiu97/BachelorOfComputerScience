{
 "cells": [
  {
   "cell_type": "markdown",
   "metadata": {},
   "source": [
    "# MATHS1004 Mathematics for Data Science I\n",
    "## Computer Lab 3\n",
    "\n",
    "The aim of this lab is to delve into using `numpy` for doing linear algebra, and to show some applications. Let's start with a problem from lectures: Solve\n",
    "$$\n",
    "\\begin{align*}\n",
    "2x + y - z &= 2\\\\\n",
    "x + 3y +2z & = 1\\\\\n",
    "x + y + z & = 2.\n",
    "\\end{align*}\n",
    "$$\n",
    "As we showed (or will show, depending on when you take this lab) in lectures, the solution to this system of equations is $x = 2, y = -1, z = 1$.\n",
    "\n",
    "We can write this system in the compact matrix form \n",
    "$$\n",
    "A\\mathbf{x} = \\mathbf{b},\n",
    "$$\n",
    "where\n",
    "$$\n",
    "A = \\begin{bmatrix}\n",
    "2 & 1 & -1 \\\\\n",
    "1 & 3 & 2\\\\\n",
    "1 & 1 & 1\n",
    "\\end{bmatrix}\n",
    "$$\n",
    "\n",
    "$$\\mathbf{b} = \n",
    "\\begin{bmatrix}\n",
    "2\\\\\n",
    "1\\\\\n",
    "2\n",
    "\\end{bmatrix}\n",
    "$$\n",
    "and\n",
    "$$\n",
    "\\mathbf{x} = \n",
    "\\begin{bmatrix}\n",
    "x\\\\\n",
    "y\\\\\n",
    "z\n",
    "\\end{bmatrix}\n",
    "$$\n",
    "(A good pen-and-paper exercise: verify that \n",
    "$\n",
    "A\\mathbf{x} = \\mathbf{b}\n",
    "$\n",
    "corresponds to the system of equations at the top of the page.)\n",
    "\n",
    "We can define $A$ and $\\mathbf{b}$ in `numpy` as follows."
   ]
  },
  {
   "cell_type": "code",
   "execution_count": null,
   "metadata": {
    "collapsed": true
   },
   "outputs": [],
   "source": [
    "import numpy as np\n",
    "\n",
    "A = np.array([[2,1,-1], [1,3,2], [1,1,1]])\n",
    "b = np.array([2,1,2])\n",
    "\n",
    "print(A)"
   ]
  },
  {
   "cell_type": "markdown",
   "metadata": {
    "collapsed": true
   },
   "source": [
    "$A$ is a *list of lists*, and wrapping `np.array()` around it and $\\mathbf{b}$ allows us to use `numpy` functions on them. For example, find out the order $\\mathbf{b}$ by appending `.shape` to the end of `b`:"
   ]
  },
  {
   "cell_type": "code",
   "execution_count": null,
   "metadata": {
    "collapsed": true
   },
   "outputs": [],
   "source": []
  },
  {
   "cell_type": "markdown",
   "metadata": {},
   "source": [
    "That means that `b` has 3 rows and one column -- by default `numpy` stores vectors as *column vectors* (not row vectors).\n",
    "\n",
    "Some exercises:\n",
    "- Define the following matrices with `numpy`:\n",
    "$$\n",
    "X = \n",
    "\\begin{bmatrix}\n",
    "1 & 6\\\\\n",
    "3 & -1\n",
    "\\end{bmatrix}\n",
    "\\quad\n",
    "Y = \n",
    "\\begin{bmatrix}\n",
    "1 & 1 & 1\\\\\n",
    "1 & -2 & 0\n",
    "\\end{bmatrix}\n",
    "\\quad\n",
    "Z = \n",
    "\\begin{bmatrix}\n",
    "2 & 3 & 1\\\\\n",
    "0 & 1 & -2\n",
    "\\end{bmatrix}\n",
    "$$\n",
    "- Find (where possible, and look at what `numpy` gives you when not):\n",
    "$$\n",
    "X + Y; \\quad Y + Z; \\quad Y - Z\n",
    "$$"
   ]
  },
  {
   "cell_type": "code",
   "execution_count": null,
   "metadata": {
    "collapsed": true
   },
   "outputs": [],
   "source": []
  },
  {
   "cell_type": "markdown",
   "metadata": {
    "collapsed": true
   },
   "source": [
    "`np.matmul` does [matrix multiplication](https://docs.scipy.org/doc/numpy/reference/generated/numpy.matmul.html#numpy.matmul), and `np.transpose` takes the [matrix transpose](https://docs.scipy.org/doc/numpy/reference/generated/numpy.transpose.html). Look at the syntax in those links, and then find (where possible, or look at what the error message gives you):\n",
    "- $XY$\n",
    "- $ZX$\n",
    "- $Z^TX$\n",
    "- Confirm that $\\mathbf{x}$ from the top of the page is a solution of $A\\mathbf{x} = \\mathbf{b}$.\n",
    "\n"
   ]
  },
  {
   "cell_type": "code",
   "execution_count": null,
   "metadata": {
    "collapsed": true
   },
   "outputs": [],
   "source": []
  },
  {
   "cell_type": "markdown",
   "metadata": {
    "collapsed": true
   },
   "source": [
    "## Solving systems of linear equations using matrices\n",
    "\n",
    "A big aim of lectures over the next few lectures is to teach a fundamental algorithm for how to *solve* $A\\mathbf{x} = \\mathbf{b}$. This is important for you to understand what's happening at a fundamental level, but in practice, with `numpy` we can solve linear equations quickly in a few different ways. Try the following methods out:\n",
    "1. Solve $A\\mathbf{x} = \\mathbf{b}$ by using the `np.linalg.solve` command (see docs [here](https://docs.scipy.org/doc/numpy-1.15.1/reference/generated/numpy.linalg.solve.html)).\n",
    "2. Find the matrix *inverse* $A^{-1}$ of $A$ and then pre-multiply $\\mathbf{b}$ by $A^{-1}$ to get $\\mathbf{x} = A^{-1}\\mathbf{b}$. The syntax for the inverse is in the docs [here](https://docs.scipy.org/doc/numpy-1.15.1/reference/generated/numpy.linalg.inv.html).\n",
    "\n",
    "Try both of these in the cell below for $A$ and $\\mathbf{b}$ defined at the top of the page, and make sure you get $\\mathbf{x}$ as defined at the top."
   ]
  },
  {
   "cell_type": "code",
   "execution_count": null,
   "metadata": {
    "collapsed": true
   },
   "outputs": [],
   "source": []
  },
  {
   "cell_type": "markdown",
   "metadata": {},
   "source": [
    "## Applications of matrices\n",
    "\n",
    "Why care about matrix multiplication? One of many applications is *sentiment analysis*, which takes a piece of text and gives it a score based on the words used. *Dictionary-based* methods use a list of scores for different words to calculate an average sentiment for a piece of text.\n",
    "\n",
    "For example, one such list gives words a score from 1 to 9, where 1 is very sad and 9 is very happy (so that 5 is neutral). If we have the following scores $h$ for two words:\n",
    "$$\n",
    "\\begin{align*}\n",
    "h(\\text{the}) &= 4.98\\\\\n",
    "h(\\text{dark}) &= 3.82\n",
    "\\end{align*}\n",
    "$$\n",
    "\n",
    "we might calculate the sentiment of the phrase \"the dark\" my the mean score of the words: $(4.98+3.82)/2 = 4.4$.\n",
    "\n",
    "For you:\n",
    "1. Put the scores for \"the\" and \"dark\" into a 2x1 column vector $h$.\n",
    "2. Put the counts of each word in the phrase \"the dark\" (i.e., 1 and 1) into a 1x2 row vector of word counts $c$.\n",
    "3. Matrix multiply $ch$, and divide by the sum of the word counts `np.sum(c)` to check the calculation above."
   ]
  },
  {
   "cell_type": "code",
   "execution_count": null,
   "metadata": {
    "collapsed": true
   },
   "outputs": [],
   "source": []
  },
  {
   "cell_type": "markdown",
   "metadata": {},
   "source": [
    "Now, if we want to score lots of phrases at once we can do it efficiently with linear algebra! Let's demonstrate using a really simple example from Dr. Seuss. Consider the couplet from *Green Eggs and Ham*:\n",
    "\n",
    "\"Would you, could you, in the dark?\"\n",
    "\n",
    "\"I would not, could not, in the dark!\"\n",
    "\n",
    "Which sentence is happier? We can compute the mean score for each sentence by building a matrix of word count for each sentence, and then using a bit of matrix mulitplication. The following code creates a matrix $X$, where the first row is the number of counts in sentence 1, and the second row is the number of counts in sentence 2. You don't have to understand the code, but it uses some neat Python functions if you're interested (`enumerate`, `split`, `index`):"
   ]
  },
  {
   "cell_type": "code",
   "execution_count": null,
   "metadata": {
    "collapsed": true
   },
   "outputs": [],
   "source": [
    "words = [ 'would', 'you', 'could', 'in', 'the', 'dark', 'i', 'not']\n",
    "scores = np.array([ 5.38, 6.24, 5.52, 5.50, 4.98, 3.82, 5.92, 3.86])\n",
    "\n",
    "t1 = \"would you could you in the dark\"\n",
    "t2 = \"i would not could not in the dark\"\n",
    "\n",
    "texts = [t1,t2]\n",
    "\n",
    "X = np.zeros((2,len(words)))\n",
    "# first, loop over the two texts\n",
    "for i,text in enumerate(texts):\n",
    "    # then loop over the words in each text\n",
    "    for word in text.split():\n",
    "        j = words.index(word)\n",
    "        # +1 to the count matrix for the current word\n",
    "        X[i,j] += 1 \n",
    "    "
   ]
  },
  {
   "cell_type": "markdown",
   "metadata": {},
   "source": [
    "In the cell below, look at the count matrix X, and check that the first row corresponds to the counts of words in sentence 1, and that the second row corresponds to the counts of words in sentence 2."
   ]
  },
  {
   "cell_type": "code",
   "execution_count": null,
   "metadata": {
    "collapsed": true
   },
   "outputs": [],
   "source": []
  },
  {
   "cell_type": "markdown",
   "metadata": {},
   "source": [
    "Now, to get the number of words in each sentence, we can just sum `X` along each row using `np.sum(X,axis=1)` (do this below and check):"
   ]
  },
  {
   "cell_type": "code",
   "execution_count": null,
   "metadata": {
    "collapsed": true
   },
   "outputs": [],
   "source": []
  },
  {
   "cell_type": "markdown",
   "metadata": {},
   "source": [
    "And the mean sentiment scores for each text are calculated by matrix multiplying `X` by `scores` and dividing each row by the sum above:"
   ]
  },
  {
   "cell_type": "code",
   "execution_count": null,
   "metadata": {
    "collapsed": true
   },
   "outputs": [],
   "source": [
    "np.matmul(X,scores)/np.sum(X,axis=1)"
   ]
  },
  {
   "cell_type": "markdown",
   "metadata": {
    "collapsed": true
   },
   "source": [
    "So which sentence is happier? Does this answer make sense?\n",
    "\n",
    "### Notes:\n",
    "- That was a tiny example, but it scales up an extremely long way. We used a dictionary of scores for just 8 words, but I selected them out of a list of 10,000 scores, from [here](http://hedonometer.org/words.html). That dictionary gets used to calculate a daily mean \"happiness\" of the entire Twittersphere as part of the so-called [hedonometer](http://hedonometer.org/index.html) project. (Full disclosure: I worked on this project, which is why this particular example is in here!) Every day this website scans through the text of ~50 million tweets, builds a giant count matrix $X$ **exactly** like you did, but with 10,000 columns from the words in those tweets, and does **exactly** the matrix multiplication you did to calculate the mean happiness score chart displayed on the website. The moral: Big data analysis is impossible without linear algebra!!\n",
    "- In truth the dictionary of word scores above would be much better stored in a *Python dictionary* structure, which is actually one of the greatest features of this programming language. We will hopefully get a chance to talk about these explicitly in coming weeks!\n",
    "- The full list of word scores we used above lives in a text file [here](https://github.com/andyreagan/labMT-simple/blob/master/labMTsimple/data/LabMT/labMT1.txt). If you're interested you might like to code up your own sentiment analysis tool!\n",
    "\n"
   ]
  },
  {
   "cell_type": "code",
   "execution_count": null,
   "metadata": {
    "collapsed": true
   },
   "outputs": [],
   "source": []
  },
  {
   "cell_type": "code",
   "execution_count": null,
   "metadata": {
    "collapsed": true
   },
   "outputs": [],
   "source": []
  },
  {
   "cell_type": "code",
   "execution_count": null,
   "metadata": {
    "collapsed": true
   },
   "outputs": [],
   "source": []
  },
  {
   "cell_type": "code",
   "execution_count": null,
   "metadata": {
    "collapsed": true
   },
   "outputs": [],
   "source": []
  },
  {
   "cell_type": "code",
   "execution_count": null,
   "metadata": {
    "collapsed": true
   },
   "outputs": [],
   "source": []
  },
  {
   "cell_type": "code",
   "execution_count": null,
   "metadata": {
    "collapsed": true
   },
   "outputs": [],
   "source": []
  },
  {
   "cell_type": "code",
   "execution_count": null,
   "metadata": {
    "collapsed": true
   },
   "outputs": [],
   "source": []
  },
  {
   "cell_type": "code",
   "execution_count": null,
   "metadata": {
    "collapsed": true
   },
   "outputs": [],
   "source": []
  }
 ],
 "metadata": {
  "kernelspec": {
   "display_name": "Python 3",
   "language": "python",
   "name": "python3"
  },
  "language_info": {
   "codemirror_mode": {
    "name": "ipython",
    "version": 3
   },
   "file_extension": ".py",
   "mimetype": "text/x-python",
   "name": "python",
   "nbconvert_exporter": "python",
   "pygments_lexer": "ipython3",
   "version": "3.6.7"
  },
  "toc": {
   "base_numbering": 1,
   "nav_menu": {},
   "number_sections": true,
   "sideBar": true,
   "skip_h1_title": false,
   "title_cell": "Table of Contents",
   "title_sidebar": "Contents",
   "toc_cell": false,
   "toc_position": {},
   "toc_section_display": true,
   "toc_window_display": false
  }
 },
 "nbformat": 4,
 "nbformat_minor": 2
}
